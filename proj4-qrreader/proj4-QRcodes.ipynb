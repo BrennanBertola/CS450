{
 "cells": [
  {
   "cell_type": "markdown",
   "metadata": {
    "pycharm": {
     "name": "#%% md\n"
    }
   },
   "source": [
    "# Project 4 - QR Code Reader\n",
    "\n",
    "### What to Submit\n",
    "Submit this iPython Notebook--containing all your code for the programming exercises below--on [learning suite](https://learningsuite.byu.edu/).\n",
    "\n",
    "Your notebook file should produce the relevant plots and also provide a short write-up with answers to the questions below.\n",
    "\n",
    "Please also fill in here the time that each part took you:\n",
    "* 1. Part A: <span style=\"color:red;\">45 Min</span>\n",
    "* 2. Part B: <span style=\"color:red;\">FILL IN TIME</span>\n",
    "* 3. Part C: <span style=\"color:red;\">FILL IN TIME</span>\n",
    "* 4. Tests: <span style=\"color:red;\">FILL IN TIME</span>\n",
    "* 5. Challenge 1: <span style=\"color:red;\">FILL IN TIME</span>\n",
    "* 6. Challenge 2: <span style=\"color:red;\">FILL IN TIME</span>\n",
    "* 7. Write-up: <span style=\"color:red;\">FILL IN TIME</span>"
   ]
  },
  {
   "cell_type": "markdown",
   "metadata": {
    "pycharm": {
     "name": "#%% md\n"
    }
   },
   "source": [
    "### Understanding QR Codes\n",
    "\n",
    "QR codes (short for Quick Response Codes) were invented in 1994, by the DENSO Corporation. These codes store data in two dimensions in the form of an array of contrasting regions. The information density of a QR code is much higher than a vanilla barcode; depending on the format used and the resolution of reader, over a thousand bytes can be encoded in a region the size of a postage stamp.\n",
    "\n",
    "QR codes use a Reed–Solomon error correction based technology to help recover from errors in reading (for instance, caused by a smudge, badly printed code or other deformity).\n",
    "\n",
    "Any QR code can be broken into the following sections:\n",
    "\n",
    "<div style=\"width:75%;text-align:center;\"><img src=\"Images/formatting.jpg\" width=100%></div>\n",
    "\n",
    "On three corners of a QR code are square blocks that the reader uses to coarsely identify and then align the code. These will be of primary interest during the lab. Once these corners are identified and the image is aligned, the size of the QR code is determined by the timing information which alternates from black and white in both the vertical and horizontal direction. \n",
    "\n",
    "Once the image is aligned and the size determined, the QR code is discretized, undergoes an Xor with a particular mask given the format information, and read bit for bit in the following order:\n",
    "\n",
    "<div style=\"width:75%;text-align:center;\"><img src=\"Images/decoding.jpg\" width=100%></div>\n",
    "\n",
    "For more details about the decoding process, see the [DataGenetics Wounded QR Codes Blog](http://datagenetics.com/blog/november12013/index.html).\n",
    "\n",
    "For this lab, we will focus primarily the computer vision side of QR codes, which involves detecting, aligning, and discretizing QR codes so that they can be read properly."
   ]
  },
  {
   "cell_type": "code",
   "execution_count": 2,
   "metadata": {
    "collapsed": true,
    "pycharm": {
     "name": "#%%\n"
    }
   },
   "outputs": [],
   "source": [
    "import cv2\n",
    "import matplotlib.pyplot as plt\n",
    "import numpy as np"
   ]
  },
  {
   "cell_type": "markdown",
   "metadata": {
    "pycharm": {
     "name": "#%% md\n"
    }
   },
   "source": [
    "### Part A: Finding Corners\n",
    "\n",
    "QR codes are designed with a very specific pattern so that can efficiently be detected, oriented, and decoded. The first step to detecting a QR code is finding the position markers that are always present in three of the four corners. These position markers always have a black/white/black/white/black ratio of 1:1:3:1:1, no matter the angle they are approached from.\n",
    "\n",
    "<div style=\"width:20%;text-align:center;\"><img src=\"Images/finder_pattern.jpg\" width=100%></div>\n",
    "\n",
    "Preprocess your image by thresholding to black and white. Scan across rows of the image, marking locations that have the 1:1:3:1:1 ratio (note: this is most easily done by keeping multiple counters for black and white pixels).\n",
    "\n",
    "<div style=\"width:20%;text-align:center;\"><img src=\"Images/first_scan.jpg\" width=100%></div>\n",
    "\n",
    "Once you have candidate locations, verify the locations by also scanning vertically, diagonally and in other directions. Also complete a non maximal suppression to get your final three candidate points.\n",
    "\n",
    "<div style=\"width:20%;text-align:center;\"><img src=\"Images/candidates.JPG\" width=100%></div>"
   ]
  },
  {
   "cell_type": "code",
   "execution_count": 12,
   "metadata": {
    "collapsed": true,
    "pycharm": {
     "name": "#%%\n"
    }
   },
   "outputs": [
    {
     "name": "stdout",
     "output_type": "stream",
     "text": [
      "(49, 28)\n"
     ]
    },
    {
     "data": {
      "text/plain": "<Figure size 640x480 with 1 Axes>",
      "image/png": "[encoded data removed]"
     },
     "metadata": {},
     "output_type": "display_data"
    }
   ],
   "source": [
    "#Your Code Here\n",
    "def findDistance(p1,p2):\n",
    "    return np.sqrt((p1[0]-p2[0])**2 + (p1[1] - p2[1])**2)\n",
    "\n",
    "def valid(r1, r2, e=1):\n",
    "    if r2 - e < r1 and r1 < r2 + e:\n",
    "        return True\n",
    "    return False\n",
    "\n",
    "def checkRatio(r, i, e=1):\n",
    "    if i+4 >= len(r):\n",
    "        return False\n",
    "    if not r[i][0] >= r[i+1][0] - e or not r[i][0] <= r[i+1][0] + e:\n",
    "        return False\n",
    "    if not 3*r[i][0] >= r[i+2][0] - e or not 3*r[i][0] <= r[i+2][0] + e:\n",
    "        return False\n",
    "    if not r[i][0] >= r[i+3][0] - e or not r[i][0] <= r[i+3][0] + e:\n",
    "        return False\n",
    "    if not r[i][0] >= r[i+4][0] - e or not r[i][0] <= r[i+4][0] + e:\n",
    "        return False\n",
    "    return True\n",
    "\n",
    "img = cv2.imread(\"QR_codes/test5.png\")\n",
    "gray = cv2.cvtColor(img, cv2.COLOR_BGR2GRAY)\n",
    "\n",
    "gray[gray<=127] = 0\n",
    "gray[gray>127] = 255\n",
    "img[gray<=127] = [0,0,0]\n",
    "img[gray>127] = [255,255,255]\n",
    "\n",
    "#Horizontal\n",
    "allCounters = []\n",
    "for r in range (img.shape[0]):\n",
    "    levelCounter = []\n",
    "    currRun = [(r,0)]\n",
    "    lastVal = gray[r,0]\n",
    "    for c in range(1, img.shape[1]):\n",
    "        currVal = gray[r,c]\n",
    "        if currVal == lastVal:\n",
    "            currRun.append((r,c))\n",
    "        else:\n",
    "            lastVal = gray[r,c]\n",
    "            levelCounter.append((len(currRun), currRun))\n",
    "            currRun = [(r,c)]\n",
    "    levelCounter.append((len(currRun), currRun))\n",
    "    allCounters += [levelCounter]\n",
    "\n",
    "\n",
    "\n",
    "accum = np.zeros(gray.shape)\n",
    "scaleMap = {}\n",
    "for i in range(len(allCounters)):\n",
    "    r = allCounters[i]\n",
    "    for j in range(len(r)):\n",
    "        c = r[j]\n",
    "        if gray[c[1][0]] == 255:\n",
    "            continue\n",
    "        if checkRatio(r, j):\n",
    "            tmp = r[j+2][1]\n",
    "            accum[tmp[len(tmp)//2]] += 1\n",
    "            scaleMap[tmp[len(tmp)//2]] = c[0]\n",
    "\n",
    "#Vertical\n",
    "allCounters = []\n",
    "\n",
    "for c in range (img.shape[1]):\n",
    "    levelCounter = []\n",
    "    currRun = [(0,c)]\n",
    "    lastVal = gray[0,c]\n",
    "    for r in range(1, img.shape[0]):\n",
    "        currVal = gray[r,c]\n",
    "        if currVal == lastVal:\n",
    "            currRun.append((r,c))\n",
    "        else:\n",
    "            lastVal = gray[r,c]\n",
    "            levelCounter.append((len(currRun), currRun))\n",
    "            currRun = [(r,c)]\n",
    "    levelCounter.append((len(currRun), currRun))\n",
    "    allCounters += [levelCounter]\n",
    "\n",
    "\n",
    "for i in range(len(allCounters)):\n",
    "    r = allCounters[i]\n",
    "    for j in range(len(r)):\n",
    "        c = r[j]\n",
    "        if gray[c[1][0]] == 255:\n",
    "            continue\n",
    "        if checkRatio(r, j):\n",
    "            tmp = r[j+2][1]\n",
    "            accum[tmp[len(tmp)//2]] += 1\n",
    "            scaleMap[tmp[len(tmp)//2]] = c[0]\n",
    "\n",
    "points = []\n",
    "for i in range(3):\n",
    "    max = np.argmax(accum)\n",
    "    max = np.unravel_index(max, accum.shape)\n",
    "    points.append(max)\n",
    "    img[max] = [255,0,0]\n",
    "    accum[max[0]-10:max[0]+10, max[1]-10:max[1]+10] = 0\n",
    "\n",
    "scale = scaleMap[points[0]]\n",
    "ori = points[0]\n",
    "dir = (points[0][0] - points[1][0], points[0][1] - points[1][1])\n",
    "dir = (dir[0]/np.sqrt(dir[0]**2 + dir[1]**2), dir[1]/np.sqrt(dir[0]**2 + dir[1]**2))\n",
    "tmp = (round(ori[0] + dir[0] * scale * 3.5), round(ori[1] + dir[1] * scale * 3.5))\n",
    "print(tmp)\n",
    "img[tmp] = [0,255,0]\n",
    "\n",
    "plt.imshow(img, cmap='gray');plt.show()"
   ]
  },
  {
   "cell_type": "markdown",
   "metadata": {
    "pycharm": {
     "name": "#%% md\n"
    }
   },
   "source": [
    "### Part B: Finding The Fourth Point and Aligning with a Homography\n",
    "\n",
    "QR codes only contain three known corner points, but homographies require four points to be defined. If the warping present in the image is small enough, an affine transform is generally sufficient to find the fourth point (i.e. the *x,y* coordinate difference between point 1 and point 2 will be the same as the *x,y* coordinate difference between point 3 and point 4). Use this assumption to find the fourth point.\n",
    "\n",
    "<div style=\"width:20%;text-align:center;\"><img src=\"Images/four_points.JPG\" width=100%></div>\n",
    "\n",
    "Once you have the four points, generate the homography that would align the QR code with the *x,y* axes. Crop the aligned image until only the QR code is visible.\n",
    "\n",
    "<div style=\"width:20%;text-align:center;\"><img src=\"Images/aligned.jpg\" width=100%></div>"
   ]
  },
  {
   "cell_type": "code",
   "execution_count": null,
   "metadata": {
    "collapsed": true,
    "pycharm": {
     "name": "#%%\n"
    }
   },
   "outputs": [],
   "source": [
    "# Your Code Here\n",
    "# Can use find homography"
   ]
  },
  {
   "cell_type": "markdown",
   "metadata": {
    "pycharm": {
     "name": "#%% md\n"
    }
   },
   "source": [
    "### Part C: Discretization\n",
    "\n",
    "Now that the image is aligned, the QR code needs to discretized so that each block is a single bit, rather than a group of pixels. The simplest way to do this is to count the number of black and white pixels in a region and assign the block to the highest count. However, to do this, the size of the QR code needs to be determined. All QR codes have an odd number of bits per row and column, starting at size 21 and incrementing by 4 (i.e. 21x21, 25x25, 29x29, ...). For this lab, you will only need to check for sizes from 21 to 33.\n",
    "\n",
    "To check if a QR code matches a given size, discretize the QR code asumming the given size. Then, determine if the timing information alternates in the appropriate manner (see the Understanding QR Codes for more information). If the timing information is valid, then you can assume that the QR code is the given size.\n",
    "\n",
    "Once you have the correct size, discretize the QR code accordingly and return a Numpy array of True/False values.\n"
   ]
  },
  {
   "cell_type": "code",
   "execution_count": null,
   "metadata": {
    "collapsed": true,
    "pycharm": {
     "name": "#%%\n"
    }
   },
   "outputs": [],
   "source": [
    "# Your Code Here"
   ]
  },
  {
   "cell_type": "markdown",
   "metadata": {
    "pycharm": {
     "name": "#%% md\n"
    }
   },
   "source": [
    "### Part D: Decoding\n",
    "\n",
    "QR codes are decoded using a very particular block pattern (see Understanding QR Codes). However, for simplicity, we have implemented this decoder for you. To use it, simply call `decode()` from the decoder.py file and feed it your 2D Numpy array. It will return a string with the QR code data.\n",
    "\n",
    "**Note: You may need to run** `conda install beautifulsoup4` **and** `conda install requests` **to get the decoder to run.**"
   ]
  },
  {
   "cell_type": "code",
   "execution_count": null,
   "metadata": {
    "collapsed": true,
    "pycharm": {
     "name": "#%%\n"
    }
   },
   "outputs": [],
   "source": [
    "from decoder import decode\n",
    "output = decode(your_array)\n",
    "print(output)"
   ]
  },
  {
   "cell_type": "markdown",
   "metadata": {
    "pycharm": {
     "name": "#%% md\n"
    }
   },
   "source": [
    "## Tests\n",
    "\n",
    "Once you have your full algorithm working, run your code on the five test images in the *QR_codes* folder. Show your results below."
   ]
  },
  {
   "cell_type": "code",
   "execution_count": null,
   "metadata": {
    "collapsed": true,
    "pycharm": {
     "name": "#%%\n"
    }
   },
   "outputs": [],
   "source": [
    "image = cv2.imread(\"QR_codes/test1.png\", cv2.IMREAD_GRAYSCALE)\n",
    "plt.imshow(image,cmap=\"gray\");plt.show()\n",
    "\n",
    "image = cv2.imread(\"QR_codes/test2.png\", cv2.IMREAD_GRAYSCALE)\n",
    "plt.imshow(image,cmap=\"gray\");plt.show()\n",
    "\n",
    "image = cv2.imread(\"QR_codes/test3.png\", cv2.IMREAD_GRAYSCALE)\n",
    "plt.imshow(image,cmap=\"gray\");plt.show()\n",
    "\n",
    "image = cv2.imread(\"QR_codes/test4.png\", cv2.IMREAD_GRAYSCALE)\n",
    "plt.imshow(image,cmap=\"gray\");plt.show()\n",
    "\n",
    "image = cv2.imread(\"QR_codes/test5.png\", cv2.IMREAD_GRAYSCALE)\n",
    "plt.imshow(image,cmap=\"gray\");plt.show()\n"
   ]
  },
  {
   "cell_type": "markdown",
   "metadata": {
    "pycharm": {
     "name": "#%% md\n"
    }
   },
   "source": [
    "## Grading and Challenges\n",
    "Points for this assigment will be assigned as follows (100 points total):\n",
    "* [20 pts] Code that correctly finds the three corners of the QR code.\n",
    "* [20 pts] Code that aligns the QR code and crops appropriately.\n",
    "* [20 pts] Code that correctly discretizes for an arbitrary size.\n",
    "* [10 pts] For a full algorithm that correctly scans the five test images.\n",
    "\n",
    "The last 30 points are earned through completing a subset of the following challenges:\n",
    "\n",
    "* [15 pts] Correctly scan a QR code that is misaligned by more than 90 degrees (e.g. challenge1.png)\n",
    "* [15 pts] Correctly scan a QR code that is perspective shifted by using the additional alignment square present in larger QR codes. (e.g. challenge2.png)\n",
    "* [15 pts] Correctly scan a QR code that is surrounded by additional pixels (e.g. challenge3.png)\n",
    "* [15 pts] Correctly scan a QR code with large amounts of noise and distortion (e.g. challenge4.png)\n",
    "* [30 pts] Implement a Code 128 1D bar code scanner (e.g. challenge5.png)\n",
    "\n",
    "You may earn up to 15 points extra credit for additional challenges you complete.\n",
    "\n"
   ]
  },
  {
   "cell_type": "code",
   "execution_count": null,
   "metadata": {
    "collapsed": true,
    "pycharm": {
     "name": "#%%\n"
    }
   },
   "outputs": [],
   "source": [
    "image = cv2.imread(\"QR_codes/challenge1.png\", cv2.IMREAD_GRAYSCALE)\n",
    "plt.imshow(image,cmap=\"gray\");plt.show()\n",
    "\n",
    "image = cv2.imread(\"QR_codes/challenge2.png\", cv2.IMREAD_GRAYSCALE)\n",
    "plt.imshow(image,cmap=\"gray\");plt.show()\n",
    "\n",
    "image = cv2.imread(\"QR_codes/challenge3.png\", cv2.IMREAD_GRAYSCALE)\n",
    "plt.imshow(image,cmap=\"gray\");plt.show()\n",
    "\n",
    "image = cv2.imread(\"QR_codes/challenge4.png\", cv2.IMREAD_GRAYSCALE)\n",
    "plt.imshow(image,cmap=\"gray\");plt.show()\n",
    "\n",
    "\n",
    "image = cv2.imread(\"QR_codes/challenge5.png\", cv2.IMREAD_GRAYSCALE)\n",
    "plt.imshow(image,cmap=\"gray\");plt.show()\n"
   ]
  },
  {
   "cell_type": "markdown",
   "metadata": {
    "pycharm": {
     "name": "#%% md\n"
    }
   },
   "source": [
    "\n",
    "## Write-up:\n",
    "Provide an explanation for the following items:\n",
    "* Which part of this lab did you find most difficult?\n",
    "* For each challenge completed, explain how you were able to solve the problem presented.\n",
    "* What improvements would you recommend for this lab?\n"
   ]
  },
  {
   "cell_type": "markdown",
   "metadata": {
    "pycharm": {
     "name": "#%% md\n"
    }
   },
   "source": [
    "Your Write-up Here"
   ]
  },
  {
   "cell_type": "code",
   "execution_count": null,
   "metadata": {
    "collapsed": true,
    "pycharm": {
     "name": "#%%\n"
    }
   },
   "outputs": [],
   "source": []
  }
 ],
 "metadata": {
  "kernelspec": {
   "display_name": "Python 3",
   "language": "python",
   "name": "python3"
  },
  "language_info": {
   "codemirror_mode": {
    "name": "ipython",
    "version": 3
   },
   "file_extension": ".py",
   "mimetype": "text/x-python",
   "name": "python",
   "nbconvert_exporter": "python",
   "pygments_lexer": "ipython3",
   "version": "3.6.8"
  }
 },
 "nbformat": 4,
 "nbformat_minor": 2
}